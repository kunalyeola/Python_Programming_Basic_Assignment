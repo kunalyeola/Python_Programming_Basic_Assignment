{
  "nbformat": 4,
  "nbformat_minor": 0,
  "metadata": {
    "colab": {
      "name": "PythonPogAss4.ipynb",
      "provenance": []
    },
    "kernelspec": {
      "name": "python3",
      "display_name": "Python 3"
    },
    "language_info": {
      "name": "python"
    }
  },
  "cells": [
    {
      "cell_type": "code",
      "metadata": {
        "id": "aQWyBs9-lh8q"
      },
      "source": [
        "#Q1 Write a Python Program to Find the Factorial of a Number?"
      ],
      "execution_count": null,
      "outputs": []
    },
    {
      "cell_type": "code",
      "metadata": {
        "colab": {
          "base_uri": "https://localhost:8080/"
        },
        "id": "YLkddE74lpB2",
        "outputId": "4c493ddd-f1f1-4d69-c417-a1d52a9dd838"
      },
      "source": [
        "num = int(input(\"Enter the Number\"))\n",
        "fact=1\n",
        "for i in range(1,num+1):\n",
        "  fact=fact*i\n",
        "print(fact)"
      ],
      "execution_count": 4,
      "outputs": [
        {
          "output_type": "stream",
          "text": [
            "Enter the Number3\n",
            "6\n"
          ],
          "name": "stdout"
        }
      ]
    },
    {
      "cell_type": "code",
      "metadata": {
        "id": "XgmuDVkpl5DM"
      },
      "source": [
        "#Q2 Write a Python Program to Display the multiplication Table?\n"
      ],
      "execution_count": null,
      "outputs": []
    },
    {
      "cell_type": "code",
      "metadata": {
        "colab": {
          "base_uri": "https://localhost:8080/"
        },
        "id": "cgXHrztvmmS6",
        "outputId": "ba4bb65b-8e08-493d-bb58-0e63a659304c"
      },
      "source": [
        "num = int(input(\"Enter that Number you want print multiplication table \"))\n",
        "\n",
        "for i in range(1,11):\n",
        "  print(num,\"*\",i,\"=\",num*i)\n",
        "\n"
      ],
      "execution_count": 5,
      "outputs": [
        {
          "output_type": "stream",
          "text": [
            "Enter that Number you want print multiplication table 5\n",
            "5 * 1 = 5\n",
            "5 * 2 = 10\n",
            "5 * 3 = 15\n",
            "5 * 4 = 20\n",
            "5 * 5 = 25\n",
            "5 * 6 = 30\n",
            "5 * 7 = 35\n",
            "5 * 8 = 40\n",
            "5 * 9 = 45\n",
            "5 * 10 = 50\n"
          ],
          "name": "stdout"
        }
      ]
    },
    {
      "cell_type": "code",
      "metadata": {
        "id": "yLckUjYXmsWc"
      },
      "source": [
        "#Q3 Write a Python Program to Print the Fibonacci sequence? "
      ],
      "execution_count": null,
      "outputs": []
    },
    {
      "cell_type": "code",
      "metadata": {
        "colab": {
          "base_uri": "https://localhost:8080/"
        },
        "id": "mpgo4zaunK93",
        "outputId": "c77ac856-12bd-49a0-9c04-838f355f9456"
      },
      "source": [
        "num = int(input(\"Enter that Number you want print fibbonanci series \"))\n",
        "\n",
        "num1=0\n",
        "num2=1\n",
        "num3=num1+num2\n",
        "print(num1,sep=',')\n",
        "print(num2,sep=',')\n",
        "for i in range (num-2):\n",
        "  num3=num1+num2\n",
        "  num1=num2\n",
        "  num2=num3\n",
        "  print(num3,sep=',')\n"
      ],
      "execution_count": 7,
      "outputs": [
        {
          "output_type": "stream",
          "text": [
            "Enter that Number you want print fibbonanci series 7\n",
            "0\n",
            "1\n",
            "1\n",
            "2\n",
            "3\n",
            "5\n",
            "8\n"
          ],
          "name": "stdout"
        }
      ]
    },
    {
      "cell_type": "code",
      "metadata": {
        "id": "4mnT9tsEoQsF"
      },
      "source": [
        "#Q4 Write a Python Program to Check Armstrong Number?"
      ],
      "execution_count": 8,
      "outputs": []
    },
    {
      "cell_type": "code",
      "metadata": {
        "colab": {
          "base_uri": "https://localhost:8080/"
        },
        "id": "2esS1xrSnWqq",
        "outputId": "ca85f8f9-8012-4e69-87a2-54a50af8e50a"
      },
      "source": [
        "num = int(input(\"Enter a number: \"))  \n",
        "sum = 0  \n",
        "temp = num  \n",
        "  \n",
        "while temp > 0:  \n",
        "   digit = temp % 10  \n",
        "   sum += digit ** 3  \n",
        "   temp //= 10  \n",
        "  \n",
        "if num == sum:  \n",
        "   print(num,\"is an Armstrong number\")  \n",
        "else:  \n",
        "   print(num,\"is not an Armstrong number\")  "
      ],
      "execution_count": 10,
      "outputs": [
        {
          "output_type": "stream",
          "text": [
            "Enter a number: 153\n",
            "153 is an Armstrong number\n"
          ],
          "name": "stdout"
        }
      ]
    },
    {
      "cell_type": "code",
      "metadata": {
        "id": "taXfY26PoEfC"
      },
      "source": [
        "#Q5 Write a Python Program to Find Armstrong Number in an Interval?"
      ],
      "execution_count": 11,
      "outputs": []
    },
    {
      "cell_type": "code",
      "metadata": {
        "colab": {
          "base_uri": "https://localhost:8080/"
        },
        "id": "6J0NnbVyohxD",
        "outputId": "0f5f189d-6f5b-4441-ef00-bdfda9caf8ff"
      },
      "source": [
        "num = int(input(\"Enter a number: \"))  \n",
        "for i in range(1,num):\n",
        "\n",
        "    sum = 0\n",
        "    temp = i \n",
        "\n",
        "    while temp > 0:  \n",
        "      digit = temp % 10  \n",
        "      sum += digit ** 3  \n",
        "      temp //= 10  \n",
        "\n",
        "      if i == sum:  \n",
        "        print(i,sep=',')  "
      ],
      "execution_count": 20,
      "outputs": [
        {
          "output_type": "stream",
          "text": [
            "Enter a number: 701\n",
            "1\n",
            "64\n",
            "125\n",
            "153\n",
            "216\n",
            "370\n",
            "371\n",
            "407\n"
          ],
          "name": "stdout"
        }
      ]
    },
    {
      "cell_type": "code",
      "metadata": {
        "id": "bbWfCeumpYGs"
      },
      "source": [
        "#Q6 Write a Python Program to Find the Sum of Natural Numbers?"
      ],
      "execution_count": 21,
      "outputs": []
    },
    {
      "cell_type": "code",
      "metadata": {
        "colab": {
          "base_uri": "https://localhost:8080/"
        },
        "id": "G146c3U1qteL",
        "outputId": "4bc66482-e4bf-459d-aeb7-0c52ba1ba03a"
      },
      "source": [
        "num=int(input(\"Enter the number\"))\n",
        "n=num\n",
        "sum=0\n",
        "while(num!=0):\n",
        "  sum=sum+num\n",
        "  num-=1\n",
        "\n",
        "print(\"the sum of {} natural number is {}\".format(n,sum))"
      ],
      "execution_count": 24,
      "outputs": [
        {
          "output_type": "stream",
          "text": [
            "Enter the number100\n",
            "the sum of 100 natural number is 5050\n"
          ],
          "name": "stdout"
        }
      ]
    },
    {
      "cell_type": "code",
      "metadata": {
        "id": "2Cb4Uco_rjaO"
      },
      "source": [
        ""
      ],
      "execution_count": null,
      "outputs": []
    }
  ]
}