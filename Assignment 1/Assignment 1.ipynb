{
 "cells": [
  {
   "cell_type": "code",
   "execution_count": 15,
   "metadata": {},
   "outputs": [
    {
     "name": "stdout",
     "output_type": "stream",
     "text": [
      "Hello Python\n"
     ]
    }
   ],
   "source": [
    "## Q1 Write a Python program to print \"Hello Python\"?\n",
    "print(\"Hello Python\")"
   ]
  },
  {
   "cell_type": "code",
   "execution_count": 25,
   "metadata": {},
   "outputs": [
    {
     "name": "stdout",
     "output_type": "stream",
     "text": [
      "Enter a first integer34\n",
      "Enter a second integer2\n",
      "Addition of 34 and 2 = 36\n",
      "Division of 34 and 2 = 17.0\n"
     ]
    }
   ],
   "source": [
    "## Q2 Write a Python program to do arithmetical operations addition and division.?\n",
    "a=int(input(\"Enter a first integer\"))\n",
    "b=int(input(\"Enter a second integer\"))\n",
    "\n",
    "print(\"Addition of {} and {} =\".format(a,b),a+b)\n",
    "print(\"Division of {} and {} =\".format(a,b),a/b)"
   ]
  },
  {
   "cell_type": "code",
   "execution_count": 28,
   "metadata": {},
   "outputs": [
    {
     "name": "stdout",
     "output_type": "stream",
     "text": [
      "Enter the Base of Triangle3\n",
      "Enter the Height of Triangle5\n",
      "Area of triangle 7.5\n"
     ]
    }
   ],
   "source": [
    "## Q3 Write a Python program to find the area of a triangle?\n",
    "Base=float(input(\"Enter the Base of Triangle\"))\n",
    "Height=float(input(\"Enter the Height of Triangle\"))\n",
    "print(\"Area of triangle\",(1/2*Base*Height))"
   ]
  },
  {
   "cell_type": "code",
   "execution_count": 36,
   "metadata": {},
   "outputs": [
    {
     "name": "stdout",
     "output_type": "stream",
     "text": [
      "before swaping the variable a=3 b=4\n",
      "after swaping the variable a=4 b=3\n"
     ]
    }
   ],
   "source": [
    "## Q4 Write a Python program to swap two variables?\n",
    "a=3\n",
    "b=4\n",
    "\n",
    "print(\"before swaping the variable a={} b={}\".format(a,b))\n",
    "c=a\n",
    "a=b\n",
    "b=c\n",
    "\n",
    "\n",
    "\n",
    "print(\"after swaping the variable a={} b={}\".format(a,b))"
   ]
  },
  {
   "cell_type": "code",
   "execution_count": 49,
   "metadata": {},
   "outputs": [
    {
     "name": "stdout",
     "output_type": "stream",
     "text": [
      "780\n"
     ]
    }
   ],
   "source": [
    "## Q5 Write a Python program to generate a random number?\n",
    "import random as rd\n",
    "print(rd.randint(0,1000))"
   ]
  },
  {
   "cell_type": "code",
   "execution_count": null,
   "metadata": {},
   "outputs": [],
   "source": []
  },
  {
   "cell_type": "code",
   "execution_count": null,
   "metadata": {},
   "outputs": [],
   "source": []
  }
 ],
 "metadata": {
  "kernelspec": {
   "display_name": "Python 3",
   "language": "python",
   "name": "python3"
  },
  "language_info": {
   "codemirror_mode": {
    "name": "ipython",
    "version": 3
   },
   "file_extension": ".py",
   "mimetype": "text/x-python",
   "name": "python",
   "nbconvert_exporter": "python",
   "pygments_lexer": "ipython3",
   "version": "3.8.3"
  }
 },
 "nbformat": 4,
 "nbformat_minor": 4
}
