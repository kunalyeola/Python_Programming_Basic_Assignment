{
  "nbformat": 4,
  "nbformat_minor": 0,
  "metadata": {
    "colab": {
      "name": "PythonPogAss2.ipynb",
      "provenance": []
    },
    "kernelspec": {
      "name": "python3",
      "display_name": "Python 3"
    },
    "language_info": {
      "name": "python"
    }
  },
  "cells": [
    {
      "cell_type": "code",
      "metadata": {
        "id": "aQWyBs9-lh8q"
      },
      "source": [
        "#Q1 Convert Kilometer to miles"
      ],
      "execution_count": 1,
      "outputs": []
    },
    {
      "cell_type": "code",
      "metadata": {
        "colab": {
          "base_uri": "https://localhost:8080/"
        },
        "id": "YLkddE74lpB2",
        "outputId": "ee1042dc-154a-415e-da9f-5b8bba1acbf4"
      },
      "source": [
        "# Taking kilometers input from the user\n",
        "kilometers = float(input(\"Enter value in kilometers: \"))\n",
        "\n",
        "# conversion factor\n",
        "conv_fac = 0.621371\n",
        "\n",
        "# calculate miles\n",
        "miles = kilometers * conv_fac\n",
        "print('%0.2f kilometers is equal to %0.2f miles' %(kilometers,miles))"
      ],
      "execution_count": 2,
      "outputs": [
        {
          "output_type": "stream",
          "text": [
            "Enter value in kilometers: 23\n",
            "23.00 kilometers is equal to 14.29 miles\n"
          ],
          "name": "stdout"
        }
      ]
    },
    {
      "cell_type": "code",
      "metadata": {
        "id": "XgmuDVkpl5DM"
      },
      "source": [
        "#Q2 Write a Python program to convert Celsius to Fahrenheit?\n"
      ],
      "execution_count": 3,
      "outputs": []
    },
    {
      "cell_type": "code",
      "metadata": {
        "colab": {
          "base_uri": "https://localhost:8080/"
        },
        "id": "cgXHrztvmmS6",
        "outputId": "94787aef-8e08-4504-ef68-7159c6b01e88"
      },
      "source": [
        "celsius = 37.5\n",
        "\n",
        "# calculate fahrenheit\n",
        "fahrenheit = (celsius * 1.8) + 32\n",
        "print('%0.1f degree Celsius is equal to %0.1f degree Fahrenheit' %(celsius,fahrenheit))\n"
      ],
      "execution_count": 4,
      "outputs": [
        {
          "output_type": "stream",
          "text": [
            "37.5 degree Celsius is equal to 99.5 degree Fahrenheit\n"
          ],
          "name": "stdout"
        }
      ]
    },
    {
      "cell_type": "code",
      "metadata": {
        "id": "yLckUjYXmsWc"
      },
      "source": [
        "#Q3 write a program to display calander  "
      ],
      "execution_count": 5,
      "outputs": []
    },
    {
      "cell_type": "code",
      "metadata": {
        "colab": {
          "base_uri": "https://localhost:8080/"
        },
        "id": "mpgo4zaunK93",
        "outputId": "43985b6c-1a28-4bc1-8407-1f70190251db"
      },
      "source": [
        "import calendar  \n",
        "# Enter the month and year  \n",
        "yy = int(input(\"Enter year: \"))  \n",
        "mm = int(input(\"Enter month: \"))  \n",
        "  \n",
        "# display the calendar  \n",
        "print(calendar.month(yy,mm))  "
      ],
      "execution_count": 6,
      "outputs": [
        {
          "output_type": "stream",
          "text": [
            "Enter year: 1999\n",
            "Enter month: 10\n",
            "    October 1999\n",
            "Mo Tu We Th Fr Sa Su\n",
            "             1  2  3\n",
            " 4  5  6  7  8  9 10\n",
            "11 12 13 14 15 16 17\n",
            "18 19 20 21 22 23 24\n",
            "25 26 27 28 29 30 31\n",
            "\n"
          ],
          "name": "stdout"
        }
      ]
    },
    {
      "cell_type": "code",
      "metadata": {
        "id": "4mnT9tsEoQsF"
      },
      "source": [
        "#Q4 Write a program to solve the quadratic equation\n"
      ],
      "execution_count": 9,
      "outputs": []
    },
    {
      "cell_type": "code",
      "metadata": {
        "colab": {
          "base_uri": "https://localhost:8080/"
        },
        "id": "2esS1xrSnWqq",
        "outputId": "a831c628-e9d7-43be-d806-67e50efac9ed"
      },
      "source": [
        "# Python program to find roots of quadratic equation\n",
        "import math\n",
        "\n",
        "\n",
        "# function for finding roots\n",
        "def equationroots( a, b, c):\n",
        "\n",
        "\t# calculating discriminant using formula\n",
        "\tdis = b * b - 4 * a * c\n",
        "\tsqrt_val = math.sqrt(abs(dis))\n",
        "\t\n",
        "\t# checking condition for discriminant\n",
        "\tif dis > 0:\n",
        "\t\tprint(\" real and different roots \")\n",
        "\t\tprint((-b + sqrt_val)/(2 * a))\n",
        "\t\tprint((-b - sqrt_val)/(2 * a))\n",
        "\t\n",
        "\telif dis == 0:\n",
        "\t\tprint(\" real and same roots\")\n",
        "\t\tprint(-b / (2 * a))\n",
        "\t\n",
        "\t# when discriminant is less than 0\n",
        "\telse:\n",
        "\t\tprint(\"Complex Roots\")\n",
        "\t\tprint(- b / (2 * a), \" + i\", sqrt_val)\n",
        "\t\tprint(- b / (2 * a), \" - i\", sqrt_val)\n",
        "\n",
        "# Driver Program\n",
        "a = 1\n",
        "b = 5\n",
        "c = -6\n",
        "\n",
        "# If a is 0, then incorrect equation\n",
        "if a == 0:\n",
        "\t\tprint(\"Input correct quadratic equation\")\n",
        "\n",
        "else:\n",
        "\tequationroots(a, b, c)\n"
      ],
      "execution_count": 8,
      "outputs": [
        {
          "output_type": "stream",
          "text": [
            " real and different roots \n",
            "1.0\n",
            "-6.0\n"
          ],
          "name": "stdout"
        }
      ]
    },
    {
      "cell_type": "code",
      "metadata": {
        "id": "taXfY26PoEfC"
      },
      "source": [
        "#Q5 Write a Python program to swap two variables without temp variable?"
      ],
      "execution_count": 10,
      "outputs": []
    },
    {
      "cell_type": "code",
      "metadata": {
        "colab": {
          "base_uri": "https://localhost:8080/"
        },
        "id": "6J0NnbVyohxD",
        "outputId": "6a12050a-78e1-428c-bb89-0f5fa7ae2e01"
      },
      "source": [
        "a = 2\n",
        "b = 3\n",
        "\n",
        "print(\"the number before swapping is a={} , b={}\".format(a,b))\n",
        "\n",
        "a=a+b\n",
        "b=a-b\n",
        "a=a-b\n",
        "\n",
        "\n",
        "print(\"the number after swapping is a={} , b={}\".format(a,b))"
      ],
      "execution_count": 14,
      "outputs": [
        {
          "output_type": "stream",
          "text": [
            "the number before swapping is a=2 , b=3\n",
            "the number after swapping is a=3 , b=2\n"
          ],
          "name": "stdout"
        }
      ]
    },
    {
      "cell_type": "code",
      "metadata": {
        "id": "bbWfCeumpYGs"
      },
      "source": [
        ""
      ],
      "execution_count": null,
      "outputs": []
    }
  ]
}