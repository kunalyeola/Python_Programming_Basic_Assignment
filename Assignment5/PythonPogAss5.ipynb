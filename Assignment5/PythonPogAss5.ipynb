{
  "nbformat": 4,
  "nbformat_minor": 0,
  "metadata": {
    "colab": {
      "name": "PythonPogAss5.ipynb",
      "provenance": []
    },
    "kernelspec": {
      "name": "python3",
      "display_name": "Python 3"
    },
    "language_info": {
      "name": "python"
    }
  },
  "cells": [
    {
      "cell_type": "code",
      "metadata": {
        "id": "aQWyBs9-lh8q"
      },
      "source": [
        "#Q1 Write a Python Program to Find LCM?"
      ],
      "execution_count": 29,
      "outputs": []
    },
    {
      "cell_type": "code",
      "metadata": {
        "colab": {
          "base_uri": "https://localhost:8080/"
        },
        "id": "YLkddE74lpB2",
        "outputId": "32133b0d-5722-4093-b01c-dd3498835ad2"
      },
      "source": [
        "def Find_LCM(num1,num2):\n",
        "  if num>num2:\n",
        "    largest=num1\n",
        "  else:\n",
        "    largest=num2\n",
        "  while(True):\n",
        "    if ((largest % num1==0) and (largest % num2==0)):\n",
        "      lcm=largest\n",
        "      break\n",
        "    largest+=1\n",
        "\n",
        "  return largest\n",
        "\n",
        "n1=int(input(\"Enter the First Number\"))\n",
        "n2=int(input(\"Enter the second number\"))\n",
        "\n",
        "print(\"The LCM of {} {} is {}\".format(n1,n2,Find_LCM(n1,n2)))"
      ],
      "execution_count": 27,
      "outputs": [
        {
          "output_type": "stream",
          "text": [
            "Enter the First Number54\n",
            "Enter the second number24\n",
            "The LCM of 54 24 is 216\n"
          ],
          "name": "stdout"
        }
      ]
    },
    {
      "cell_type": "code",
      "metadata": {
        "id": "XgmuDVkpl5DM"
      },
      "source": [
        "#Q2 Write a Python Program to Find HCF?\n"
      ],
      "execution_count": 28,
      "outputs": []
    },
    {
      "cell_type": "code",
      "metadata": {
        "colab": {
          "base_uri": "https://localhost:8080/"
        },
        "id": "cgXHrztvmmS6",
        "outputId": "92c7042c-65fd-4bdb-ced8-6d7edb893d93"
      },
      "source": [
        "def Find_HCF(num1,num2):\n",
        "  if num1<num2:\n",
        "    smaller=num1\n",
        "  else:\n",
        "    smaller=num2\n",
        "  for i in range(1,smaller+1):\n",
        "    if ((num1%i==0) and (num2%i==0)):\n",
        "      hcf=i\n",
        "    \n",
        "  return hcf\n",
        "n1=int(input(\"Enter the First Number\"))\n",
        "n2=int(input(\"Enter the Second Number\"))\n",
        "\n",
        "print(\"The HCF of {} {} is {}\".format(n1,n2,Find_HCF(n1,n2)))"
      ],
      "execution_count": 37,
      "outputs": [
        {
          "output_type": "stream",
          "text": [
            "Enter the First Number36\n",
            "Enter the Second Number24\n",
            "The HCF of 36 24 is 12\n"
          ],
          "name": "stdout"
        }
      ]
    },
    {
      "cell_type": "code",
      "metadata": {
        "id": "yLckUjYXmsWc"
      },
      "source": [
        "#Q3 Write a Python Program to Convert Decimal to Binary, Octal and Hexadecimal?"
      ],
      "execution_count": null,
      "outputs": []
    },
    {
      "cell_type": "code",
      "metadata": {
        "colab": {
          "base_uri": "https://localhost:8080/"
        },
        "id": "mpgo4zaunK93",
        "outputId": "ed2cb88f-aed1-421f-d275-85d350a9fd2d"
      },
      "source": [
        "num=int(input(\"Enter the Decimale number\"))\n",
        "\n",
        "print(bin(num))\n",
        "print(oct(num))\n",
        "print(hex(num))"
      ],
      "execution_count": 40,
      "outputs": [
        {
          "output_type": "stream",
          "text": [
            "Enter the Decimale number23\n",
            "0b10111\n",
            "0o27\n",
            "0x17\n"
          ],
          "name": "stdout"
        }
      ]
    },
    {
      "cell_type": "code",
      "metadata": {
        "id": "4mnT9tsEoQsF"
      },
      "source": [
        "#Q4 Write a Python Program To Find ASCII value of a character?"
      ],
      "execution_count": 8,
      "outputs": []
    },
    {
      "cell_type": "code",
      "metadata": {
        "colab": {
          "base_uri": "https://localhost:8080/"
        },
        "id": "2esS1xrSnWqq",
        "outputId": "87a8bdbf-5e20-483a-edcd-7b65d1b4df1c"
      },
      "source": [
        "char=input(\"Enter the character\")\n",
        "\n",
        "print(ord(char))"
      ],
      "execution_count": 42,
      "outputs": [
        {
          "output_type": "stream",
          "text": [
            "Enter the characterA\n",
            "65\n"
          ],
          "name": "stdout"
        }
      ]
    },
    {
      "cell_type": "code",
      "metadata": {
        "id": "taXfY26PoEfC"
      },
      "source": [
        "#Q5 Write a Python Program to Make a Simple Calculator with 4 basic mathematical operations?"
      ],
      "execution_count": 43,
      "outputs": []
    },
    {
      "cell_type": "code",
      "metadata": {
        "colab": {
          "base_uri": "https://localhost:8080/"
        },
        "id": "6J0NnbVyohxD",
        "outputId": "1836055c-c4f2-452c-d18e-f81c43745a71"
      },
      "source": [
        "def ADD(A,B):\n",
        "  return A+B\n",
        "def SUB(A,B):\n",
        "  return A-B\n",
        "def MUL(A,B):\n",
        "  return A*B\n",
        "def DIV(A,B):\n",
        "  return A//B\n",
        "\n",
        "num1=int(input(\"Enter the Number1\"))\n",
        "num2=int(input(\"Enter the Number2\"))\n",
        "\n",
        "print(\"Addtion Of Two Number {} + {}={}\".format(num1,num2,ADD(num1,num2)))\n",
        "print(\"Subtraction Of Two Number {} - {}={}\".format(num1,num2,SUB(num1,num2)))\n",
        "print(\"Multiplication Of Two Number {} * {}={}\".format(num1,num2,MUL(num1,num2)))\n",
        "print(\"Division Of Two Number {} / {}={}\".format(num1,num2,DIV(num1,num2)))"
      ],
      "execution_count": 46,
      "outputs": [
        {
          "output_type": "stream",
          "text": [
            "Enter the Number123\n",
            "Enter the Number212\n",
            "Addtion Of Two Number 23 + 12=35\n",
            "Subtraction Of Two Number 23 - 12=11\n",
            "Multiplication Of Two Number 23 * 12=276\n",
            "Division Of Two Number 23 / 12=1\n"
          ],
          "name": "stdout"
        }
      ]
    },
    {
      "cell_type": "code",
      "metadata": {
        "id": "bbWfCeumpYGs"
      },
      "source": [
        ""
      ],
      "execution_count": 47,
      "outputs": []
    },
    {
      "cell_type": "code",
      "metadata": {
        "id": "G146c3U1qteL"
      },
      "source": [
        ""
      ],
      "execution_count": 46,
      "outputs": []
    },
    {
      "cell_type": "code",
      "metadata": {
        "id": "2Cb4Uco_rjaO"
      },
      "source": [
        ""
      ],
      "execution_count": null,
      "outputs": []
    }
  ]
}